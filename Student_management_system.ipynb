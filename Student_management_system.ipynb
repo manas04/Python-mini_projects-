{
 "cells": [
  {
   "cell_type": "code",
   "execution_count": null,
   "metadata": {},
   "outputs": [],
   "source": [
    "import os\n",
    "import platform"
   ]
  },
  {
   "cell_type": "code",
   "execution_count": null,
   "metadata": {},
   "outputs": [],
   "source": [
    "global lis\n",
    "lis = [\"manas\",\"aman\",\"meet\",\"sachin\",\"chayan\"]"
   ]
  },
  {
   "cell_type": "code",
   "execution_count": null,
   "metadata": {},
   "outputs": [],
   "source": [
    "def manageStudent():\n",
    "    x = \"#\"*30\n",
    "    y = \"=\"*28\n",
    "    global bye\n",
    "    bye = \"\\n {}\\n# {} #\\n# ===> Brought To You By<== #\\n# ===> Manas-Mini-Project <=== #\\n# {} #\\n {}\".format(x,y,y,x)"
   ]
  },
  {
   "cell_type": "code",
   "execution_count": null,
   "metadata": {},
   "outputs": [],
   "source": [
    "    print(\"\"\"----------------WELCOME TO STUDENT MANAGEMENT SYSTEM----------------\n",
    "      ENTER 1: TO VIEW STUDENT'S LIST\n",
    "      ENTER 2: TO ADD NEW STUDENT\n",
    "      ENTER 3: TO SEARCH STUDENT\n",
    "      ENTER 4: TO REMOVE STUDENT\n",
    "      \n",
    "      \n",
    "      \"\"\")\n",
    "\n",
    "    try:\n",
    "        userinput = int(input('Please select from above option: '))\n",
    "    \n",
    "    except ValueError:\n",
    "        exit(\"\\n That's not a valid number\")\n",
    "    \n",
    "    else:\n",
    "        print(\"\\n\")\n",
    "    \n",
    "    if(userinput==1):\n",
    "        print(\"List Students\\n\")\n",
    "        for i in lis:\n",
    "            print(\"=> {}\".format(i))\n",
    "        \n",
    "    elif(userinput==2):\n",
    "        newstd = input(\"Enter new Student: \")\n",
    "        if newstd in lis:\n",
    "            print(\"\\nThis student {} already in database :)\".format(newstd))\n",
    "        \n",
    "        else:\n",
    "            lis.append(newstd)\n",
    "            print(\"New student {} successfully added \\n\".format(newstd))\n",
    "        \n",
    "    elif(userinput==3):\n",
    "        srcstd = input(\"Enter Name Of Student To Search: \")\n",
    "        if(srcstd in lis):\n",
    "            print(\"\\n=> Record Found Of student {} \".format(srcstd))\n",
    "        \n",
    "        else:\n",
    "            print(\"\\n=> No Record Found Of student {} \".format(srcstd))\n",
    "        \n",
    "\n",
    "\n",
    "\n",
    "    elif(userinput==4):\n",
    "        rmstd = input(\"Enter student name to remove: \")\n",
    "        if(rmstd in lis):\n",
    "            lis.remove(rmstd)\n",
    "            print(\"\\n=> Student {} successfully removed \".format(rmstd))\n",
    "            for i in lis:\n",
    "                print(\"=> {}\".format(i))\n",
    "            \n",
    "        else:\n",
    "            print(\"\\n=>No record found of this student {}\".format(rmstd))\n",
    "        \n",
    "        \n",
    "        \n",
    "    elif(userinput<1 or userinput>4):\n",
    "        print(\"Please enter Valid option\")\n",
    "    \n",
    "    \n",
    "managestudent()\n",
    "\n",
    "def runagain():\n",
    "    runagn=input(\"\\n want to run again (y/n): \")\n",
    "    if(runagain.lower=='y'):\n",
    "        if(platform.system() == \"Windows\"):\n",
    "            print(os.system('cls'))\n",
    "        else:\n",
    "            print(os.system('clear'))\n",
    "        managestudent()\n",
    "        runagain()\n",
    "        \n",
    "    else:\n",
    "        quit(bye)\n",
    "\n",
    "runagain()\n",
    "\n",
    "        \n",
    "        \n",
    "        \n",
    "        \n"
   ]
  },
  {
   "cell_type": "code",
   "execution_count": null,
   "metadata": {},
   "outputs": [],
   "source": []
  },
  {
   "cell_type": "code",
   "execution_count": null,
   "metadata": {},
   "outputs": [],
   "source": [
    "\n"
   ]
  }
 ],
 "metadata": {
  "kernelspec": {
   "display_name": "Python 3",
   "language": "python",
   "name": "python3"
  },
  "language_info": {
   "codemirror_mode": {
    "name": "ipython",
    "version": 3
   },
   "file_extension": ".py",
   "mimetype": "text/x-python",
   "name": "python",
   "nbconvert_exporter": "python",
   "pygments_lexer": "ipython3",
   "version": "3.7.7"
  }
 },
 "nbformat": 4,
 "nbformat_minor": 4
}
